{
 "cells": [
  {
   "cell_type": "code",
   "execution_count": 1,
   "id": "56ad0468-b85e-4303-88e7-839975a14c76",
   "metadata": {},
   "outputs": [],
   "source": [
    "## External Libraries\n",
    "import numpy as np\n",
    "import pandas as pd\n",
    "import matplotlib.pyplot as plt"
   ]
  },
  {
   "cell_type": "code",
   "execution_count": 2,
   "id": "07a3423f-f90c-4bf1-b136-92db62efa842",
   "metadata": {},
   "outputs": [],
   "source": [
    "from sklearn.preprocessing import LabelEncoder\n",
    "data = \"annotations.csv\"\n",
    "df = pd.read_csv(data)\n",
    "features = pd.read_csv(data, usecols = ['AU04_c', 'AU05_c', 'AU07_c','AU09_c','AU23_c','AU04_r', 'AU05_r', 'AU07_r','AU09_r','AU23_r'])\n",
    "\n",
    "## convert target info into numbers\n",
    "target = df['target']\n",
    "LE = LabelEncoder()\n",
    "target_nums = LE.fit_transform(target)\n",
    "\n",
    "# build full list of features\n",
    "features = features.columns.values.tolist()\n",
    "features2 = df.columns.values.tolist()\n",
    "features2 = features2[39:711]\n",
    "features = features + features2\n",
    "\n",
    "df = pd.read_csv(data, usecols = features)"
   ]
  },
  {
   "cell_type": "code",
   "execution_count": 3,
   "id": "661ee825-f09b-45c3-97ef-21430b2afaaf",
   "metadata": {},
   "outputs": [
    {
     "name": "stdout",
     "output_type": "stream",
     "text": [
      "Target nums: 0 = loud, 1 = subtle\n"
     ]
    }
   ],
   "source": [
    "## Use StandardScaler from sklearn to preprocess the data\n",
    "from sklearn.preprocessing import StandardScaler\n",
    "scaler = StandardScaler()\n",
    "scaled_df = pd.DataFrame(scaler.fit_transform(df), index=df.index, columns=df.columns)\n",
    "scaled_df['target_nums'] = target_nums\n",
    "scaled_df['target'] = target\n",
    "print(\"Target nums: 0 = loud, 1 = subtle\")"
   ]
  },
  {
   "cell_type": "code",
   "execution_count": 4,
   "id": "6afb4154-2273-4f48-8cfe-0abf9ba61223",
   "metadata": {},
   "outputs": [],
   "source": [
    "from sklearn.decomposition import PCA\n",
    "pca = PCA(n_components=2)\n",
    "components = pca.fit_transform(scaled_df.iloc[:,0:682])\n",
    "reduced_data = {\n",
    "    'component1': components[:,0],\n",
    "    'component2': components[:,1],\n",
    "    'target_nums': scaled_df['target_nums']}\n",
    "\n",
    "reduced_df = pd.DataFrame(reduced_data, columns=['component1', 'component2', 'target_nums'])"
   ]
  },
  {
   "cell_type": "code",
   "execution_count": 5,
   "id": "ef5faa24-18d8-492c-94d8-e5461a76e7e6",
   "metadata": {},
   "outputs": [
    {
     "name": "stdout",
     "output_type": "stream",
     "text": [
      "Average accuracy: 0.44000000000000006\n",
      "Average precision: 0.45928601998928675\n",
      "Average recall: 0.44000000000000006\n",
      "Average F1: 0.4354697449177552\n"
     ]
    }
   ],
   "source": [
    "from sklearn.mixture import GaussianMixture\n",
    "from sklearn.model_selection import KFold\n",
    "from sklearn.model_selection import cross_val_score, cross_validate\n",
    "\n",
    "X = reduced_df.iloc[:, :-1]\n",
    "Y = reduced_df['target_nums']\n",
    "\n",
    "gmm = GaussianMixture(n_components=2, max_iter=100, random_state=2)\n",
    "gmm.fit(X, Y)\n",
    "kf = KFold(n_splits=5, shuffle=True, random_state=2)\n",
    "res = cross_val_score(gmm, X, Y, scoring='accuracy', cv=kf)\n",
    "print('Average accuracy: {}'.format(res.mean()))\n",
    "\n",
    "res = cross_val_score(gmm, X, Y, scoring='precision_weighted', cv=kf)\n",
    "print('Average precision: {}'.format(res.mean()))\n",
    "\n",
    "res = cross_val_score(gmm, X, Y, scoring='recall_weighted', cv=kf)\n",
    "print('Average recall: {}'.format(res.mean()))\n",
    "\n",
    "res = cross_val_score(gmm, X, Y, scoring='f1_weighted', cv=kf)\n",
    "print('Average F1: {}'.format(res.mean()))"
   ]
  },
  {
   "cell_type": "code",
   "execution_count": 6,
   "id": "168428bb-cb8e-4908-8d26-2960bd676263",
   "metadata": {},
   "outputs": [
    {
     "data": {
      "text/plain": [
       "<sklearn.metrics._plot.confusion_matrix.ConfusionMatrixDisplay at 0x1b0b6253550>"
      ]
     },
     "execution_count": 6,
     "metadata": {},
     "output_type": "execute_result"
    },
    {
     "data": {
      "image/png": "[encoded data removed]",
      "text/plain": [
       "<Figure size 720x720 with 2 Axes>"
      ]
     },
     "metadata": {
      "needs_background": "light"
     },
     "output_type": "display_data"
    }
   ],
   "source": [
    "from sklearn.metrics import confusion_matrix, ConfusionMatrixDisplay\n",
    "\n",
    "## Confusion matrix\n",
    "Y_predict = gmm.predict(X)\n",
    "Y_true = reduced_df['target_nums']\n",
    "conf_matrix = confusion_matrix(Y_true, Y_predict)\n",
    "conf_matrix_plot = ConfusionMatrixDisplay(conf_matrix, display_labels=scaled_df['target'].unique())\n",
    "fig, ax = plt.subplots(figsize=(10,10))\n",
    "conf_matrix_plot.plot(ax=ax)"
   ]
  },
  {
   "cell_type": "code",
   "execution_count": 7,
   "id": "86241f83-bbbb-4623-965e-76909f695e48",
   "metadata": {},
   "outputs": [
    {
     "name": "stdout",
     "output_type": "stream",
     "text": [
      "Average accuracy: 0.54\n",
      "Average precision: 0.4831519409709065\n",
      "Average recall: 0.54\n",
      "Average F1: 0.4925068020798017\n"
     ]
    }
   ],
   "source": [
    "from sklearn import svm\n",
    "import warnings\n",
    "import sklearn.exceptions\n",
    "warnings.filterwarnings(\"ignore\", category=sklearn.exceptions.UndefinedMetricWarning)\n",
    "\n",
    "svc = svm.SVC(random_state=45)\n",
    "svc.fit(X, Y)\n",
    "\n",
    "kf = KFold(n_splits=5, shuffle=True, random_state=45)\n",
    "res = cross_val_score(svc, X, Y, scoring='accuracy', cv=kf)\n",
    "print('Average accuracy: {}'.format(res.mean()))\n",
    "\n",
    "res = cross_val_score(svc, X, Y, scoring='precision_weighted', cv=kf)\n",
    "print('Average precision: {}'.format(res.mean()))\n",
    "\n",
    "res = cross_val_score(svc, X, Y, scoring='recall_weighted', cv=kf)\n",
    "print('Average recall: {}'.format(res.mean()))\n",
    "\n",
    "res = cross_val_score(svc, X, Y, scoring='f1_weighted', cv=kf)\n",
    "print('Average F1: {}'.format(res.mean()))"
   ]
  },
  {
   "cell_type": "code",
   "execution_count": 8,
   "id": "907da446-925a-44bf-93ee-2753bcf16c13",
   "metadata": {},
   "outputs": [
    {
     "data": {
      "text/plain": [
       "<sklearn.metrics._plot.confusion_matrix.ConfusionMatrixDisplay at 0x1b0bb245f40>"
      ]
     },
     "execution_count": 8,
     "metadata": {},
     "output_type": "execute_result"
    },
    {
     "data": {
      "image/png": "[encoded data removed]",
      "text/plain": [
       "<Figure size 720x720 with 2 Axes>"
      ]
     },
     "metadata": {
      "needs_background": "light"
     },
     "output_type": "display_data"
    }
   ],
   "source": [
    "svc.fit(X, Y)\n",
    "Y_predict = svc.predict(X)\n",
    "Y_true = reduced_df['target_nums']\n",
    "conf_matrix = confusion_matrix(Y_true, Y_predict)\n",
    "conf_matrix_plot = ConfusionMatrixDisplay(conf_matrix, display_labels=scaled_df['target'].unique())\n",
    "fig, ax = plt.subplots(figsize=(10,10))\n",
    "conf_matrix_plot.plot(ax=ax)"
   ]
  },
  {
   "cell_type": "code",
   "execution_count": 9,
   "id": "a7fd2eaf-1bf9-4319-a0de-a3a09f0e4894",
   "metadata": {},
   "outputs": [],
   "source": [
    "## identifying unknowns\n",
    "unknown_data = \"unlabeled.csv\"\n",
    "u_df = pd.read_csv(unknown_data)\n",
    "features = pd.read_csv(unknown_data, usecols = ['AU04_c', 'AU05_c', 'AU07_c','AU09_c','AU23_c','AU04_r', 'AU05_r', 'AU07_r','AU09_r','AU23_r'])\n",
    "\n",
    "# build full list of features\n",
    "features = features.columns.values.tolist()\n",
    "features2 = u_df.columns.values.tolist()\n",
    "features2 = features2[37:711]\n",
    "features = features + features2\n",
    "\n",
    "u_df = pd.read_csv(unknown_data, usecols = features)"
   ]
  },
  {
   "cell_type": "code",
   "execution_count": 10,
   "id": "bbc0537c-1bfe-42be-9b2d-04674e06bc4a",
   "metadata": {},
   "outputs": [
    {
     "name": "stdout",
     "output_type": "stream",
     "text": [
      "   AU23_c  AU09_c    AU07_c    AU05_c    AU04_c    AU23_r    AU09_r    AU07_r  \\\n",
      "0    -0.5    -2.0 -0.816497 -0.816497 -1.224745 -0.560168 -1.408370 -1.162317   \n",
      "1    -0.5     0.5 -0.816497 -0.816497 -1.224745 -0.560168  0.107199 -1.130120   \n",
      "2    -0.5     0.5 -0.816497 -0.816497  0.816497  1.990597  0.125681  0.350949   \n",
      "3     2.0     0.5  1.224745  1.224745  0.816497 -0.310093  1.659733  1.397356   \n",
      "4    -0.5     0.5  1.224745  1.224745  0.816497 -0.560168 -0.484243  0.544132   \n",
      "\n",
      "     AU05_r    AU04_r  ...  eye_lmk_x_1  eye_lmk_x_0  gaze_angle_y  \\\n",
      "0 -0.625663 -1.195215  ...    -0.181155     0.010009      0.095576   \n",
      "1 -0.625663 -1.195215  ...    -1.331734    -1.166079     -1.051340   \n",
      "2 -0.625663  0.470682  ...     0.553257     0.410380      1.650864   \n",
      "3 -0.077402  1.158195  ...    -0.621802    -0.890824     -1.025273   \n",
      "4  1.954391  0.761553  ...     1.581434     1.636514      0.330173   \n",
      "\n",
      "   gaze_angle_x  gaze_1_z  gaze_1_y  gaze_1_x  gaze_0_z  gaze_0_y  gaze_0_x  \n",
      "0     -0.272532  0.059408  0.152780 -1.040972 -0.221864  0.055408  0.323134  \n",
      "1     -0.324942 -0.913461 -0.697384  0.603873 -1.008089 -1.315682 -0.932444  \n",
      "2      0.172953  1.554432  1.426235 -0.115267  1.909461  1.712700  0.338450  \n",
      "3      1.745250 -1.216369 -1.457558  1.577312 -0.170009 -0.565495  1.527354  \n",
      "4     -1.320730  0.515990  0.575927 -1.024947 -0.509498  0.113070 -1.256493  \n",
      "\n",
      "[5 rows x 684 columns]\n"
     ]
    }
   ],
   "source": [
    "## Use StandardScaler from sklearn to preprocess the data\n",
    "from sklearn.preprocessing import StandardScaler\n",
    "scaler = StandardScaler()\n",
    "scaled_df = pd.DataFrame(scaler.fit_transform(u_df), index=u_df.index, columns=u_df.columns)\n",
    "print(scaled_df)"
   ]
  },
  {
   "cell_type": "code",
   "execution_count": 11,
   "id": "c574f8a0-6b0b-4099-a8ab-f1ed4298840c",
   "metadata": {},
   "outputs": [
    {
     "name": "stdout",
     "output_type": "stream",
     "text": [
      "   component1  component2\n",
      "0    8.273575   -2.308765\n",
      "1   29.828167   -0.066295\n",
      "2   -7.569103  -13.616726\n",
      "3  -11.260914   28.237100\n",
      "4  -19.271725  -12.245315\n"
     ]
    }
   ],
   "source": [
    "from sklearn.decomposition import PCA\n",
    "pca = PCA(n_components=2)\n",
    "components = pca.fit_transform(scaled_df)\n",
    "reduced_data = {\n",
    "    'component1': components[:,0],\n",
    "    'component2': components[:,1]}\n",
    "\n",
    "reduced_df = pd.DataFrame(reduced_data, columns=['component1', 'component2'])\n",
    "print(reduced_df)"
   ]
  },
  {
   "cell_type": "code",
   "execution_count": 12,
   "id": "f8f4ecf1-5529-4a54-82a0-d5b7d28d1b72",
   "metadata": {},
   "outputs": [
    {
     "name": "stdout",
     "output_type": "stream",
     "text": [
      "   component1  component2 predicted_labels\n",
      "0    8.273575   -2.308765           subtle\n",
      "1   29.828167   -0.066295           subtle\n",
      "2   -7.569103  -13.616726             loud\n",
      "3  -11.260914   28.237100           subtle\n",
      "4  -19.271725  -12.245315             loud\n"
     ]
    }
   ],
   "source": [
    "y_pred = svc.predict(reduced_df)\n",
    "## convert the y_pred from numbers to actual labels\n",
    "predicted_labels = []\n",
    "for pred in y_pred:\n",
    "    ## use the known label dataset and index the first row where the predicted label number\n",
    "    ## matches the label_number in the known_label dataset and get the label string\n",
    "    if pred:\n",
    "        label = \"loud\"\n",
    "    else:\n",
    "        label = \"subtle\"\n",
    "    predicted_labels.append(label)\n",
    "\n",
    "reduced_df['predicted_labels'] = predicted_labels\n",
    "print(reduced_df)"
   ]
  },
  {
   "cell_type": "code",
   "execution_count": null,
   "id": "c0b3cc2f-5bc3-4d07-8408-5be404a352cf",
   "metadata": {},
   "outputs": [],
   "source": []
  }
 ],
 "metadata": {
  "kernelspec": {
   "display_name": "Python 3",
   "language": "python",
   "name": "python3"
  },
  "language_info": {
   "codemirror_mode": {
    "name": "ipython",
    "version": 3
   },
   "file_extension": ".py",
   "mimetype": "text/x-python",
   "name": "python",
   "nbconvert_exporter": "python",
   "pygments_lexer": "ipython3",
   "version": "3.8.8"
  }
 },
 "nbformat": 4,
 "nbformat_minor": 5
}
